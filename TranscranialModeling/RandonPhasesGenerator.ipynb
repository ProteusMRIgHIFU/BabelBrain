{
 "cells": [
  {
   "cell_type": "code",
   "execution_count": 1,
   "id": "add01395-2b9d-426d-9449-1fc83388c8e9",
   "metadata": {},
   "outputs": [],
   "source": [
    "import numpy as np"
   ]
  },
  {
   "cell_type": "markdown",
   "id": "6e754aa9-c523-48d3-a82d-77a2ce5925ae",
   "metadata": {},
   "source": [
    "# Random generator for phased arrays\n",
    "**USE with caution**\n",
    "\n",
    "This is a simple random generator that can be used to create random phases, use with caution"
   ]
  },
  {
   "cell_type": "code",
   "execution_count": 13,
   "id": "fd6f9b68-d576-4e96-9dd2-91828fa15de3",
   "metadata": {},
   "outputs": [],
   "source": [
    "#for H317,\n",
    "rng = np.random.default_rng(seed=317)\n",
    "phases=(rng.random(128)-0.5)*2 * np.pi # this will produce from [-pi,pi)\n",
    "phases=phases.reshape((128,1))\n",
    "np.savetxt('H-317 Random Phases.csv',phases,delimiter=',')\n",
    "\n",
    "#for I12378,\n",
    "rng = np.random.default_rng(seed=12378)\n",
    "phases=(rng.random(128)-0.5)*2 * np.pi # this will produce from [-pi,pi)\n",
    "phases=phases.reshape((128,1))\n",
    "np.savetxt('I12378 Random Phases.csv',phases,delimiter=',')\n",
    "\n",
    "#for ATAC,\n",
    "rng = np.random.default_rng(seed=12113)\n",
    "phases=(rng.random(128)-0.5)*2 * np.pi # this will produce from [-pi,pi)\n",
    "phases=phases.reshape((128,1))\n",
    "np.savetxt('ATAC Random Phases.csv',phases,delimiter=',')\n",
    "\n",
    "#for REMOPD,\n",
    "rng = np.random.default_rng(seed=181516)\n",
    "phases=(rng.random(256)-0.5)*2 * np.pi # this will produce from [-pi,pi)\n",
    "phases=phases.reshape((256,1))\n",
    "np.savetxt('REMOPD Random Phases.csv',phases,delimiter=',')\n"
   ]
  },
  {
   "cell_type": "code",
   "execution_count": 37,
   "id": "6aceb608-62ff-4f16-afac-067acb4416aa",
   "metadata": {},
   "outputs": [
    {
     "data": {
      "text/plain": [
       "0.006803885926048564"
      ]
     },
     "execution_count": 37,
     "metadata": {},
     "output_type": "execute_result"
    }
   ],
   "source": [
    "6e7\n",
    "/8.81849e+11 * 100"
   ]
  },
  {
   "cell_type": "code",
   "execution_count": 18,
   "id": "b376db7f-78be-4e34-8300-dfe1bc801b7a",
   "metadata": {},
   "outputs": [
    {
     "data": {
      "text/plain": [
       "137.75510204081633"
      ]
     },
     "execution_count": 18,
     "metadata": {},
     "output_type": "execute_result"
    }
   ],
   "source": [
    "F=0.98\n",
    "135/F"
   ]
  },
  {
   "cell_type": "code",
   "execution_count": 25,
   "id": "97e15fdb-cb52-46b7-a74a-f0b3ee77326a",
   "metadata": {},
   "outputs": [
    {
     "data": {
      "text/plain": [
       "39.03447763488229"
      ]
     },
     "execution_count": 25,
     "metadata": {},
     "output_type": "execute_result"
    }
   ],
   "source": [
    "np.sqrt(b**2-a**2)-77"
   ]
  },
  {
   "cell_type": "code",
   "execution_count": null,
   "id": "e5c4fe55-ca3e-4ce8-98fe-3d07c39ac488",
   "metadata": {},
   "outputs": [],
   "source": []
  }
 ],
 "metadata": {
  "kernelspec": {
   "display_name": "Python 3 (ipykernel)",
   "language": "python",
   "name": "python3"
  },
  "language_info": {
   "codemirror_mode": {
    "name": "ipython",
    "version": 3
   },
   "file_extension": ".py",
   "mimetype": "text/x-python",
   "name": "python",
   "nbconvert_exporter": "python",
   "pygments_lexer": "ipython3",
   "version": "3.9.13"
  }
 },
 "nbformat": 4,
 "nbformat_minor": 5
}
