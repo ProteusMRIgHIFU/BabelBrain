{
 "cells": [
  {
   "cell_type": "code",
   "execution_count": 2,
   "id": "e08386b1-19fa-4244-b77d-cf89066877b1",
   "metadata": {},
   "outputs": [],
   "source": [
    "import stl\n",
    "from stl import mesh\n",
    "import numpy as np"
   ]
  },
  {
   "cell_type": "code",
   "execution_count": 3,
   "id": "6e7f47f8-4f0c-464f-965b-12c58e06e835",
   "metadata": {},
   "outputs": [],
   "source": [
    "def CreateBaseTrajectory(TotalDepth=80.0, #mm\n",
    "                         FinalAperture=80.00,\n",
    "                         FirstDepth=30.00,\n",
    "                         FinalDepth=70.00,\n",
    "                         Step=5.00,\n",
    "                         ArcStep=2.00):\n",
    "    \n",
    "    AllVert=np.zeros((0,3))\n",
    "    AllFaces=np.zeros((0,3),int)\n",
    "    \n",
    "    for nS  in np.arange(FirstDepth,FinalDepth,Step):\n",
    "        CurRadius=FinalAperture/2*nS/TotalDepth\n",
    "        Perimeter=CurRadius*2*np.pi\n",
    "        ThetaVec=np.linspace(0,2*np.pi,int(Perimeter/ArcStep))\n",
    "        X=np.cos(ThetaVec)*CurRadius\n",
    "        Y=np.sin(ThetaVec)*CurRadius\n",
    "        vertices=np.zeros((len(X)+1,3))\n",
    "        vertices[:,2]=-nS #Z coordinate\n",
    "        vertices[1:,0]=X\n",
    "        vertices[1:,1]=Y\n",
    "        faces=np.zeros((len(X)-1,3),int)\n",
    "        faces[:,1]=np.arange(len(X)-1)+1\n",
    "        faces[:,2]=np.arange(len(X)-1)+2\n",
    "        faces+=AllVert.shape[0]\n",
    "        \n",
    "        AllVert=np.vstack((AllVert,vertices))\n",
    "        AllFaces=np.vstack((AllFaces,faces))\n",
    "        \n",
    "    trajectory = mesh.Mesh(np.zeros(AllFaces.shape[0], dtype=mesh.Mesh.dtype))\n",
    "    for i, f in enumerate(AllFaces):\n",
    "        for j in range(3):\n",
    "            trajectory.vectors[i][j] = AllVert[f[j],:]\n",
    "\n",
    "    # Write the mesh to file \"cube.stl\"\n",
    "    return trajectory\n",
    "    "
   ]
  },
  {
   "cell_type": "code",
   "execution_count": 4,
   "id": "d64e3139-ed41-42b4-b91d-ac51fa09d574",
   "metadata": {},
   "outputs": [],
   "source": [
    "trajectory=CreateBaseTrajectory()\n",
    "needle=mesh.Mesh.from_file('NeedleModel.stl')\n",
    "combined = mesh.Mesh(np.concatenate([m.data for m in [trajectory,needle]]))\n",
    "combined.save('PlanningModels/Trajectory-30-70-F#1.stl')"
   ]
  },
  {
   "cell_type": "code",
   "execution_count": 5,
   "id": "9cb74fac-9f1e-4ea6-9c07-c926b8e5f89a",
   "metadata": {},
   "outputs": [],
   "source": [
    "trajectory=CreateBaseTrajectory(FirstDepth=20,FinalDepth=60)\n",
    "needle=mesh.Mesh.from_file('NeedleModel.stl')\n",
    "combined = mesh.Mesh(np.concatenate([m.data for m in [trajectory,needle]]))\n",
    "combined.save('PlanningModels/Trajectory-20-60-F#1.stl')"
   ]
  },
  {
   "cell_type": "code",
   "execution_count": 6,
   "id": "3a6dae18-bd8e-4cfd-bd24-88c2e9ed4b15",
   "metadata": {},
   "outputs": [],
   "source": [
    "trajectory=CreateBaseTrajectory(FirstDepth=50,FinalDepth=90)\n",
    "needle=mesh.Mesh.from_file('NeedleModel.stl')\n",
    "combined = mesh.Mesh(np.concatenate([m.data for m in [trajectory,needle]]))\n",
    "combined.save('PlanningModels/Trajectory-50-90-F#1.stl')"
   ]
  },
  {
   "cell_type": "code",
   "execution_count": null,
   "id": "0ab29843-74f8-4750-898e-184e506189f4",
   "metadata": {},
   "outputs": [],
   "source": []
  },
  {
   "cell_type": "code",
   "execution_count": null,
   "id": "225bd411-caeb-4a8f-8c34-cc4d4487027f",
   "metadata": {},
   "outputs": [],
   "source": []
  }
 ],
 "metadata": {
  "kernelspec": {
   "display_name": "Python 3 (ipykernel)",
   "language": "python",
   "name": "python3"
  },
  "language_info": {
   "codemirror_mode": {
    "name": "ipython",
    "version": 3
   },
   "file_extension": ".py",
   "mimetype": "text/x-python",
   "name": "python",
   "nbconvert_exporter": "python",
   "pygments_lexer": "ipython3",
   "version": "3.9.13"
  }
 },
 "nbformat": 4,
 "nbformat_minor": 5
}
