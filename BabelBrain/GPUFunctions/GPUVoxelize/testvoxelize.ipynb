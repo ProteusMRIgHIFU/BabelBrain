{
 "cells": [
  {
   "cell_type": "markdown",
   "id": "be82dc05",
   "metadata": {},
   "source": [
    "### Imports"
   ]
  },
  {
   "cell_type": "code",
   "execution_count": null,
   "id": "3338cc45-348f-416d-929d-b3df9b9d5ea9",
   "metadata": {},
   "outputs": [],
   "source": [
    "%matplotlib widget\n",
    "%cd ../../..\n",
    "import logging\n",
    "logging.basicConfig(level=logging.INFO)\n",
    "import os\n",
    "import re\n",
    "\n",
    "from linetimer import CodeTimer\n",
    "import nibabel\n",
    "from nibabel import affines, nifti1\n",
    "import numpy as np\n",
    "import pyvista\n",
    "pyvista.set_jupyter_backend('panel')\n",
    "import trimesh\n",
    "\n",
    "from BabelBrain.GPUFunctions.GPUVoxelize import Voxelize\n",
    "from BabelBrain.BabelDatasetPreps import FixMesh"
   ]
  },
  {
   "cell_type": "markdown",
   "id": "f2b6a47f",
   "metadata": {},
   "source": [
    "### GPU Initialization"
   ]
  },
  {
   "cell_type": "code",
   "execution_count": null,
   "id": "3ba0fbfa-f5d8-4be5-9aeb-2b15dfe21a57",
   "metadata": {},
   "outputs": [],
   "source": [
    "# GPUBackend='CUDA'\n",
    "# GPUBackend='OpenCL'\n",
    "GPUBackend='Metal'\n",
    "gpu_name = 'Apple M1 Max'\n",
    "\n",
    "Voxelize.InitVoxelize(gpu_name,GPUBackend=GPUBackend)"
   ]
  },
  {
   "cell_type": "markdown",
   "id": "3062dcbc",
   "metadata": {},
   "source": [
    "### Load Input Data"
   ]
  },
  {
   "cell_type": "code",
   "execution_count": null,
   "id": "260278cd-df87-4fb3-bdbe-845878a7b030",
   "metadata": {},
   "outputs": [],
   "source": [
    "T1W_fname = '/Users/acoreas/Documents/BabelBrain Imaging Data/SDR_0p55/T1W.nii.gz'\n",
    "stl_fname = '/Users/acoreas/Documents/BabelBrain Imaging Data/SDR_0p55/m2m_SDR_0p55/skin.stl'\n",
    "base_name = os.path.splitext(stl_fname)[0]\n",
    "\n",
    "# Load data\n",
    "nifti = nibabel.load(T1W_fname)\n",
    "data = nifti.get_fdata().astype(np.uint8)\n",
    "mesh = trimesh.load_mesh(stl_fname)\n",
    "\n",
    "# Fix mesh if needed\n",
    "if mesh.body_count != 1:\n",
    "    print(\"Mesh needs fixing\")\n",
    "    base_name += '_fixed'\n",
    "    fname = base_name + '.stl'\n",
    "    if os.path.exists(fname):\n",
    "        print(\"Reloading fixed mesh\")\n",
    "        mesh = trimesh.load_mesh(fname)\n",
    "    else:\n",
    "        print(\"Fixing mesh file\")\n",
    "        mesh = FixMesh(mesh)    \n",
    "        mesh.export(base_name + '.stl')"
   ]
  },
  {
   "cell_type": "markdown",
   "id": "21badc9d",
   "metadata": {},
   "source": [
    "### Determine Output Data Resolution"
   ]
  },
  {
   "cell_type": "code",
   "execution_count": null,
   "id": "16d84585",
   "metadata": {},
   "outputs": [],
   "source": [
    "# Set desired spatial step\n",
    "resolution_level = {\n",
    "    '0': 0.919,    # 200 kHz,   6 PPW\n",
    "    '1': 0.613,    # 200 kHz,   9 PPW\n",
    "    '2': 0.459,    # 200 kHz,  12 PPW\n",
    "    '3': 0.306,    # 600 kHz,   6 PPW\n",
    "    '4': 0.204,    # 600 kHz,   9 PPW\n",
    "    '5': 0.153,    # 600 kHz,  12 PPW\n",
    "    '6': 0.184,    # 1000 kHz,  6 PPW\n",
    "    '7': 0.123,    # 1000 kHz,  9 PPW\n",
    "    '8': 0.092,    # 1000 kHz, 12 PPW\n",
    "}\n",
    "spatial_step = np.full(3,resolution_level['0'])\n",
    "# spatial_step = np.asarray(nifti.header.get_zooms())/2\n",
    "spatial_step_text = re.sub(\"\\.\",\"_\",str(spatial_step[0]))\n",
    "\n",
    "# Calculate new affine\n",
    "zooms = np.asarray(nifti.header.get_zooms())\n",
    "print(f\"Original zooms: {zooms}\")\n",
    "print(f\"New zooms: {spatial_step}\")\n",
    "new_x = int(nifti.shape[0]/(spatial_step[0]/zooms[0]))\n",
    "new_y = int(nifti.shape[1]/(spatial_step[1]/zooms[1]))\n",
    "new_z = int(nifti.shape[2]/(spatial_step[2]/zooms[2]))\n",
    "affine_upscaled = affines.rescale_affine(nifti.affine.copy(),\n",
    "                                         nifti.shape,\n",
    "                                         spatial_step,\n",
    "                                         (new_x,new_y,new_z))"
   ]
  },
  {
   "cell_type": "markdown",
   "id": "22f1fc05",
   "metadata": {},
   "source": [
    "### Run Voxelization Step"
   ]
  },
  {
   "cell_type": "code",
   "execution_count": null,
   "id": "9b5d8906-136e-42f8-bda1-2e18c99705b8",
   "metadata": {},
   "outputs": [],
   "source": [
    "with CodeTimer(\"GPU Voxelization\", unit=\"s\"):\n",
    "    points_voxelization_gpu=Voxelize.Voxelize(mesh,targetResolution=spatial_step[0], GPUBackend=GPUBackend)\n",
    "    \n",
    "with CodeTimer(\"CPU Voxelization\", unit=\"s\"):\n",
    "    print(f\"Starting Voxelization\")\n",
    "    voxelization_truth_fname = base_name + f\"_voxelization_CPU_spatial_step_{spatial_step_text}.npy\"\n",
    "    if os.path.exists(voxelization_truth_fname):\n",
    "        print(\"Reloading CPU file\")\n",
    "        points_voxelization_cpu = np.load(voxelization_truth_fname)\n",
    "    else:\n",
    "        print('Generating CPU file')\n",
    "        points_voxelization_cpu = mesh.voxelized(spatial_step[0],max_iter=30).fill().points\n",
    "        print('Saving CPU file')\n",
    "        np.save(voxelization_truth_fname,points_voxelization_cpu)\n",
    "\n",
    "# Ensure arrays are same size and dtype\n",
    "gpu_vert_num = len(points_voxelization_gpu[:,0])\n",
    "cpu_vert_num = len(points_voxelization_cpu[:,0])\n",
    "if gpu_vert_num != cpu_vert_num:\n",
    "    print(f\"Array sizes don't match: {gpu_vert_num} vs {cpu_vert_num}\")\n",
    "if gpu_vert_num == 0:\n",
    "    print(\"Arrays are empty\")"
   ]
  },
  {
   "cell_type": "markdown",
   "id": "bbf78c96",
   "metadata": {},
   "source": [
    "### Plot Data"
   ]
  },
  {
   "cell_type": "code",
   "execution_count": null,
   "id": "dcd70156-6d72-46b5-909b-c2b729b1583a",
   "metadata": {},
   "outputs": [],
   "source": [
    "mesh_step = points_voxelization_cpu.shape[0]//100000\n",
    "mesh_cpu =  pyvista.PolyData(points_voxelization_cpu[::mesh_step,:])\n",
    "mesh_gpu =  pyvista.PolyData(points_voxelization_gpu[::mesh_step,:])\n",
    "plotter = pyvista.Plotter(shape=(1,2))\n",
    "plotter.subplot(0,0)\n",
    "plotter.add_mesh(pyvista.wrap(mesh),opacity=0.5)\n",
    "plotter.add_mesh(mesh_cpu,color='blue',opacity=0.1)\n",
    "plotter.add_text('CPU Voxelization', position='upper_edge', font_size=18)\n",
    "plotter.subplot(0,1)\n",
    "plotter.add_mesh(pyvista.wrap(mesh),opacity=0.5)\n",
    "plotter.add_mesh(mesh_gpu,color='blue',opacity=0.1)\n",
    "plotter.add_text('GPU Voxelization', position='upper_edge', font_size=18)\n",
    "plotter.show()"
   ]
  },
  {
   "cell_type": "markdown",
   "id": "2529a96d",
   "metadata": {},
   "source": [
    "### Check Output Data Matches Truth Data"
   ]
  },
  {
   "cell_type": "code",
   "execution_count": null,
   "id": "379625a8",
   "metadata": {},
   "outputs": [],
   "source": [
    "# Convert voxels back to 3D indices\n",
    "inds_voxelization_gpu = np.hstack((points_voxelization_gpu,np.ones((points_voxelization_gpu.shape[0],1),dtype=points_voxelization_gpu.dtype))).T\n",
    "inds_voxelization_cpu = np.hstack((points_voxelization_cpu,np.ones((points_voxelization_cpu.shape[0],1),dtype=points_voxelization_cpu.dtype))).T\n",
    "ijk_gpu_tmp = np.round(np.linalg.inv(affine_upscaled).dot(inds_voxelization_gpu)).T\n",
    "ijk_cpu_tmp = np.round(np.linalg.inv(affine_upscaled).dot(inds_voxelization_cpu)).T\n",
    "ijk_gpu = np.ascontiguousarray(ijk_gpu_tmp[:,:3])\n",
    "ijk_cpu = np.ascontiguousarray(ijk_cpu_tmp[:,:3])\n",
    "\n",
    "# Remove duplicates\n",
    "ijk_gpu_unique = np.unique(ijk_gpu, axis=0,)\n",
    "ijk_cpu_unique = np.unique(ijk_cpu, axis=0)\n",
    "print(f\"Number of CPU indexes: {ijk_cpu_unique.shape[0]}\")\n",
    "print(f\"Number of GPU indexes: {ijk_gpu_unique.shape[0]}\")\n",
    "\n",
    "# Count number of matches\n",
    "set1 = set(map(tuple, ijk_gpu_unique))\n",
    "set2 = set(map(tuple, ijk_cpu_unique))\n",
    "common_coordinates = set1.intersection(set2)\n",
    "match_count = len(common_coordinates)\n",
    "\n",
    "# Calculate DICE coefficient\n",
    "dice_coeff = 2 * match_count / (ijk_gpu_unique.shape[0] + ijk_cpu_unique.shape[0])\n",
    "print(f\"Dice coefficient: {dice_coeff}\")"
   ]
  }
 ],
 "metadata": {
  "kernelspec": {
   "display_name": "Python (bbl_dev)",
   "language": "python",
   "name": "bbl_dev"
  },
  "language_info": {
   "codemirror_mode": {
    "name": "ipython",
    "version": 3
   },
   "file_extension": ".py",
   "mimetype": "text/x-python",
   "name": "python",
   "nbconvert_exporter": "python",
   "pygments_lexer": "ipython3",
   "version": "3.10.13"
  }
 },
 "nbformat": 4,
 "nbformat_minor": 5
}
