{
 "cells": [
  {
   "cell_type": "markdown",
   "id": "be82dc05",
   "metadata": {},
   "source": [
    "### Imports"
   ]
  },
  {
   "cell_type": "code",
   "execution_count": null,
   "id": "3338cc45-348f-416d-929d-b3df9b9d5ea9",
   "metadata": {},
   "outputs": [],
   "source": [
    "%matplotlib widget\n",
    "%cd ../../..\n",
    "import logging\n",
    "logging.basicConfig(level=logging.INFO)\n",
    "import os\n",
    "import re\n",
    "\n",
    "from linetimer import CodeTimer\n",
    "import matplotlib.pyplot as plt\n",
    "import nibabel\n",
    "from nibabel import processing, nifti1, affines\n",
    "import numpy as np\n",
    "from skimage.measure import label\n",
    "from skimage.metrics import mean_squared_error, normalized_root_mse\n",
    "\n",
    "from BabelBrain.GPUFunctions.GPULabel import LabelImage\n",
    "from BabelBrain.GPUFunctions.GPUResample import Resample"
   ]
  },
  {
   "cell_type": "markdown",
   "id": "f2b6a47f",
   "metadata": {},
   "source": [
    "### GPU Initialization"
   ]
  },
  {
   "cell_type": "code",
   "execution_count": null,
   "id": "3ba0fbfa-f5d8-4be5-9aeb-2b15dfe21a57",
   "metadata": {},
   "outputs": [],
   "source": [
    "\n",
    "# GPUBackend = 'CUDA'\n",
    "GPUBackend = 'OpenCL'\n",
    "# GPUBackend = 'Metal' # Metal version isn't ready yet\n",
    "gpu_name = 'Apple M1 Max'\n",
    "\n",
    "Resample.InitResample(gpu_name, GPUBackend=GPUBackend)\n",
    "LabelImage.InitLabel(gpu_name,GPUBackend=GPUBackend)"
   ]
  },
  {
   "cell_type": "markdown",
   "id": "3062dcbc",
   "metadata": {},
   "source": [
    "### Load Input Data"
   ]
  },
  {
   "cell_type": "code",
   "execution_count": null,
   "id": "260278cd-df87-4fb3-bdbe-845878a7b030",
   "metadata": {},
   "outputs": [],
   "source": [
    "fname = '/Users/acoreas/Documents/BabelBrain Imaging Data/SDR_0p55/CT.nii.gz'\n",
    "base_name,_ = os.path.splitext(os.path.splitext(fname)[0])\n",
    "nifti = nibabel.load(fname)\n",
    "data = np.ascontiguousarray(nifti.get_fdata())"
   ]
  },
  {
   "cell_type": "markdown",
   "id": "21badc9d",
   "metadata": {},
   "source": [
    "### Determine Output Data Resolution"
   ]
  },
  {
   "cell_type": "code",
   "execution_count": null,
   "id": "16d84585",
   "metadata": {},
   "outputs": [],
   "source": [
    "# Set desired spatial step\n",
    "resolution_level = {\n",
    "    '0': 0.919,    # 200 kHz,   6 PPW\n",
    "    '1': 0.613,    # 200 kHz,   9 PPW\n",
    "    '2': 0.459,    # 200 kHz,  12 PPW\n",
    "    '3': 0.306,    # 600 kHz,   6 PPW\n",
    "    '4': 0.204,    # 600 kHz,   9 PPW\n",
    "    '5': 0.153,    # 600 kHz,  12 PPW\n",
    "    '6': 0.184,    # 1000 kHz,  6 PPW\n",
    "    '7': 0.123,    # 1000 kHz,  9 PPW\n",
    "    '8': 0.092,    # 1000 kHz, 12 PPW\n",
    "}\n",
    "spatial_step = np.full(3,resolution_level['0'])\n",
    "# spatial_step = np.asarray(nifti.header.get_zooms())/2\n",
    "spatial_step_text = re.sub(\"\\.\",\"_\",str(spatial_step[0]))\n",
    "\n",
    "# Calculate new affine\n",
    "zooms = np.asarray(nifti.header.get_zooms())\n",
    "print(f\"Original zooms: {zooms}\")\n",
    "print(f\"New zooms: {spatial_step}\")\n",
    "new_x = int(nifti.shape[0]/(spatial_step[0]/zooms[0]))\n",
    "new_y = int(nifti.shape[1]/(spatial_step[1]/zooms[1]))\n",
    "new_z = int(nifti.shape[2]/(spatial_step[2]/zooms[2]))\n",
    "affine_upscaled = affines.rescale_affine(nifti.affine.copy(),\n",
    "                                         nifti.shape,\n",
    "                                         spatial_step,\n",
    "                                         (new_x,new_y,new_z))\n",
    "\n",
    "# Output dimensions\n",
    "output_data = np.zeros((new_x,new_y,new_z),dtype=np.uint8)\n",
    "output_nifti = nifti1.Nifti1Image(output_data,affine_upscaled)\n",
    "print(f\"Output Dimensions: {output_data.shape}\")\n",
    "print(f\"Output Size: {output_data.size}\")"
   ]
  },
  {
   "cell_type": "markdown",
   "id": "38f2ab60",
   "metadata": {},
   "source": [
    "### Run Resample Step"
   ]
  },
  {
   "cell_type": "code",
   "execution_count": null,
   "id": "461e2d9d",
   "metadata": {},
   "outputs": [],
   "source": [
    "# Select a resample method\n",
    "# resample_method = 'CPU' # Truth method, accurate but takes longer especially for higher resolutions\n",
    "resample_method = 'GPU' # Much faster, but can have slight deviations from truth. Acceptable for purposes of this test.\n",
    "print(f\"Resampling via {resample_method}\")\n",
    "\n",
    "# Set resample order and mode (default is 3 and 'constant')\n",
    "order = 3 # 0\n",
    "mode = 'constant' #'nearest'\n",
    "\n",
    "if resample_method == 'CPU':\n",
    "    # Reload file if it was created already, otherwise generate and save file\n",
    "    resampled_fname = base_name + f\"_resampled_{resample_method}_mode_{mode}_order_{order}_spatial_step_{spatial_step_text}.nii.gz\"\n",
    "    if os.path.exists(resampled_fname):\n",
    "        print('Reloading file')\n",
    "        resampled_nifti = nibabel.load(resampled_fname)\n",
    "        resampled_data = resampled_nifti.get_fdata()\n",
    "    else:\n",
    "        print('Generating file')\n",
    "        resampled_nifti = processing.resample_from_to(nifti,output_nifti,mode=mode,order=order,cval=data.min()) # Truth method\n",
    "        print('Saving file')\n",
    "        nibabel.save(resampled_nifti,resampled_fname)\n",
    "        print('Collecting data')\n",
    "        resampled_data=resampled_nifti.get_fdata()\n",
    "elif resample_method == 'GPU':\n",
    "    # Generating file is typically faster than reloading a saved file\n",
    "    print('Generating file')\n",
    "    resampled_nifti = Resample.ResampleFromTo(nifti,output_nifti,mode=mode,order=order,cval=data.min(),GPUBackend=GPUBackend)\n",
    "    resampled_data = resampled_nifti.get_fdata()"
   ]
  },
  {
   "cell_type": "markdown",
   "id": "fe257686",
   "metadata": {},
   "source": [
    "### Prepare Data"
   ]
  },
  {
   "cell_type": "code",
   "execution_count": null,
   "id": "67ddbdfd",
   "metadata": {},
   "outputs": [],
   "source": [
    "# Check input data is contiguous\n",
    "if not resampled_data.flags.contiguous:\n",
    "    print(\"Changing input data to be a contiguous array\")\n",
    "    resampled_data = np.ascontiguousarray(resampled_data)\n",
    "    \n",
    "HUCapThreshold = 2100.0\n",
    "HUThreshold = 300.0\n",
    "resampled_data[resampled_data>HUCapThreshold] = HUCapThreshold\n",
    "fct = resampled_data > HUThreshold\n",
    "nfct = fct > 0.5"
   ]
  },
  {
   "cell_type": "markdown",
   "id": "22f1fc05",
   "metadata": {},
   "source": [
    "### Run Label Step"
   ]
  },
  {
   "cell_type": "code",
   "execution_count": null,
   "id": "9b5d8906-136e-42f8-bda1-2e18c99705b8",
   "metadata": {},
   "outputs": [],
   "source": [
    "with CodeTimer(\"GPU Label\", unit=\"s\"):\n",
    "    data_label_gpu = LabelImage.LabelImage(nfct, GPUBackend=GPUBackend)\n",
    "\n",
    "with CodeTimer(\"CPU Label\", unit=\"s\"):\n",
    "    print(f\"Starting Label\")\n",
    "    label_truth_fname = base_name + f\"_label_CPU_mode_{mode}_order_{order}_spatial_step_{spatial_step_text}.nii.gz\"\n",
    "    if os.path.exists(label_truth_fname):\n",
    "        print(\"Reloading CPU file\")\n",
    "        data_label_cpu = nibabel.load(label_truth_fname).get_fdata()\n",
    "    else:\n",
    "        print('Generating CPU file')\n",
    "        data_label_cpu = label(nfct)\n",
    "        nifti_label_cpu = nibabel.Nifti1Image(data_label_cpu.astype(np.float32),affine_upscaled)\n",
    "        print('Saving CPU file')\n",
    "        nibabel.save(nifti_label_cpu,label_truth_fname)\n",
    "\n",
    "# Ensure arrays are same size and dtype\n",
    "if data_label_gpu.size != data_label_cpu.size:\n",
    "    print(f\"Array sizes don't match: {data_label_gpu.size} vs {data_label_cpu.size}\")\n",
    "if data_label_gpu.size == 0:\n",
    "    print(\"Arrays are empty\")\n",
    "if data_label_gpu.dtype != data_label_cpu.dtype:\n",
    "    print(\"Arrays have different dtypes\")\n",
    "    data_label_gpu.astype(data_label_cpu.dtype)"
   ]
  },
  {
   "cell_type": "markdown",
   "id": "bbf78c96",
   "metadata": {},
   "source": [
    "### Plot Data"
   ]
  },
  {
   "cell_type": "code",
   "execution_count": null,
   "id": "dcd70156-6d72-46b5-909b-c2b729b1583a",
   "metadata": {},
   "outputs": [],
   "source": [
    "fig, axs = plt.subplots(3, 3, figsize=(8, 8))\n",
    "\n",
    "slice_num = resampled_data.shape[0]//2\n",
    "axs[0,0].set_title(\"Original Data\")\n",
    "axs[0,0].imshow(np.rot90(nfct[slice_num,:,:]), cmap='gray')\n",
    "axs[0,1].set_title(\"CPU Label\\n Results\")\n",
    "axs[0,1].imshow(np.rot90(data_label_cpu[slice_num,:,:]), cmap='gray')\n",
    "axs[0,2].set_title(\"GPU Label\\n Results\")\n",
    "axs[0,2].imshow(np.rot90(data_label_gpu[slice_num,:,:]), cmap='gray')\n",
    "\n",
    "slice_num = resampled_data.shape[2]//2\n",
    "axs[1,0].imshow(nfct[:,:,slice_num], cmap='gray')\n",
    "axs[1,1].imshow(data_label_cpu[:,:,slice_num], cmap='gray')\n",
    "axs[1,2].imshow(data_label_gpu[:,:,slice_num], cmap='gray')\n",
    "\n",
    "slice_num = resampled_data.shape[1]//2\n",
    "axs[2,0].imshow(np.rot90(nfct[:,slice_num,:]), cmap='gray')\n",
    "axs[2,1].imshow(np.rot90(data_label_cpu[:,slice_num,:]), cmap='gray')\n",
    "axs[2,2].imshow(np.rot90(data_label_gpu[:,slice_num,:]), cmap='gray')\n",
    "\n",
    "# Adjust plots\n",
    "plt.subplots_adjust(top=0.8,bottom=0.2,wspace=0.1, hspace=0)\n",
    "plt.tight_layout()"
   ]
  },
  {
   "cell_type": "markdown",
   "id": "2529a96d",
   "metadata": {},
   "source": [
    "### Check Output Data Matches Truth Data"
   ]
  },
  {
   "cell_type": "code",
   "execution_count": null,
   "id": "379625a8",
   "metadata": {},
   "outputs": [],
   "source": [
    "data_match = np.all(data_label_cpu==data_label_gpu)\n",
    "print(f\"Data matches? {data_match}\")\n",
    "\n",
    "if not data_match:\n",
    "    # DICE coefficient calculation\n",
    "    matches = abs(data_label_gpu - data_label_cpu) < 1e-6\n",
    "    matches_count = len(matches[matches==True])\n",
    "    dice_coeff = 2 * matches_count / (data_label_cpu.size + data_label_gpu.size)\n",
    "    print(f\"Dice Coefficient: {dice_coeff}\")\n",
    "\n",
    "    # Plot difference images\n",
    "    diffs = abs(data_label_gpu - data_label_cpu)\n",
    "\n",
    "    fig, axs = plt.subplots(3, 1, figsize=(4, 12))\n",
    "\n",
    "    slice_num = diffs.shape[0]//2\n",
    "    axs[0,0].imshow(np.rot90(diffs[slice_num,:,:]), cmap='gray')\n",
    "\n",
    "    slice_num = diffs.shape[2]//2\n",
    "    axs[1,0].imshow(diffs[:,:,slice_num], cmap='gray')\n",
    "\n",
    "    slice_num = diffs.shape[1]//2\n",
    "    axs[2,0].imshow(np.rot90(diffs[:,slice_num,:]), cmap='gray')\n",
    "\n",
    "    plt.tight_layout()\n",
    "\n",
    "    # Get difference histograms\n",
    "    hist,bins = np.histogram(diffs)\n",
    "    print(f\"Difference Histogram\")\n",
    "    for bin in range(len(bins)-1):\n",
    "        print(f\"{bins[bin]:.2f} to {bins[bin+1]:.2f}: {hist[bin]}\")\n",
    "\n",
    "    # Mean square error calculation\n",
    "    mse = mean_squared_error(data_label_cpu,data_label_gpu)\n",
    "    print(f\"Mean square error: {mse}\")\n",
    "\n",
    "    # Normalized root mean square error calculation\n",
    "    nrmse = normalized_root_mse(data_label_cpu,data_label_gpu,normalization='min-max')\n",
    "    print(f\"Normalized root mean square error: {nrmse}\")"
   ]
  }
 ],
 "metadata": {
  "kernelspec": {
   "display_name": "bbl_dev2",
   "language": "python",
   "name": "python3"
  },
  "language_info": {
   "codemirror_mode": {
    "name": "ipython",
    "version": 3
   },
   "file_extension": ".py",
   "mimetype": "text/x-python",
   "name": "python",
   "nbconvert_exporter": "python",
   "pygments_lexer": "ipython3",
   "version": "3.10.13"
  }
 },
 "nbformat": 4,
 "nbformat_minor": 5
}
