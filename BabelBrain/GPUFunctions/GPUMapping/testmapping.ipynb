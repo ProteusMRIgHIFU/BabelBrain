{
 "cells": [
  {
   "cell_type": "markdown",
   "id": "0",
   "metadata": {},
   "source": [
    "### Imports"
   ]
  },
  {
   "cell_type": "code",
   "execution_count": null,
   "id": "1",
   "metadata": {},
   "outputs": [],
   "source": [
    "%matplotlib widget\n",
    "%cd ../../..\n",
    "import logging\n",
    "logging.basicConfig(level=logging.INFO)\n",
    "import os\n",
    "import re\n",
    "\n",
    "from linetimer import CodeTimer\n",
    "import matplotlib.pyplot as plt\n",
    "import nibabel\n",
    "from nibabel import processing, nifti1, affines\n",
    "import numpy as np\n",
    "from skimage.metrics import mean_squared_error, normalized_root_mse\n",
    "\n",
    "from BabelBrain.GPUFunctions.GPUMapping import MappingFilter\n",
    "from BabelBrain.GPUFunctions.GPUResample import Resample"
   ]
  },
  {
   "cell_type": "markdown",
   "id": "2",
   "metadata": {},
   "source": [
    "### GPU Initialization"
   ]
  },
  {
   "cell_type": "code",
   "execution_count": null,
   "id": "3",
   "metadata": {},
   "outputs": [],
   "source": [
    "# GPUBackend='CUDA'\n",
    "# GPUBackend='OpenCL'\n",
    "GPUBackend='Metal'\n",
    "gpu_name = 'Apple M1 Max'\n",
    "\n",
    "MappingFilter.InitMapFilter(gpu_name,GPUBackend=GPUBackend)\n",
    "Resample.InitResample(gpu_name, GPUBackend=GPUBackend)"
   ]
  },
  {
   "cell_type": "markdown",
   "id": "4",
   "metadata": {},
   "source": [
    "### Load Input Data"
   ]
  },
  {
   "cell_type": "code",
   "execution_count": null,
   "id": "5",
   "metadata": {},
   "outputs": [],
   "source": [
    "fname_1 = '/Users/acoreas/Documents/BabelBrain Imaging Data/SDR_0p55/m2m_SDR_0p55/final_tissues.nii.gz'\n",
    "fname_2 = '/Users/acoreas/Documents/BabelBrain Imaging Data/SDR_0p55/T1W.nii.gz'\n",
    "base_name_1,_ = os.path.splitext(os.path.splitext(fname_1)[0])\n",
    "base_name_2,_ = os.path.splitext(os.path.splitext(fname_2)[0])\n",
    "nifti_1 = nibabel.load(fname_1)\n",
    "nifti_2 = nibabel.load(fname_2)\n",
    "data_1 = nifti_1.get_fdata()[:,:,:,0]\n",
    "data_2 = nifti_2.get_fdata()\n",
    "nifti_1 = nifti1.Nifti1Image(data_1,nifti_1.affine)"
   ]
  },
  {
   "cell_type": "markdown",
   "id": "6",
   "metadata": {},
   "source": [
    "### Determine Output Data Resolution"
   ]
  },
  {
   "cell_type": "code",
   "execution_count": null,
   "id": "7",
   "metadata": {},
   "outputs": [],
   "source": [
    "# Set desired spatial step\n",
    "resolution_level = {\n",
    "    '0': 0.919,    # 200 kHz,   6 PPW\n",
    "    '1': 0.613,    # 200 kHz,   9 PPW\n",
    "    '2': 0.459,    # 200 kHz,  12 PPW\n",
    "    '3': 0.306,    # 600 kHz,   6 PPW\n",
    "    '4': 0.204,    # 600 kHz,   9 PPW\n",
    "    '5': 0.153,    # 600 kHz,  12 PPW\n",
    "    '6': 0.184,    # 1000 kHz,  6 PPW\n",
    "    '7': 0.123,    # 1000 kHz,  9 PPW\n",
    "    '8': 0.092,    # 1000 kHz, 12 PPW\n",
    "}\n",
    "spatial_step = np.full(3,resolution_level['0'])\n",
    "# spatial_step = np.asarray(nifti.header.get_zooms())/2\n",
    "spatial_step_text = re.sub(\"\\.\",\"_\",str(spatial_step[0]))\n",
    "\n",
    "# Calculate new affine\n",
    "zooms = np.asarray(nifti_2.header.get_zooms())\n",
    "print(f\"Original zooms: {zooms}\")\n",
    "print(f\"New zooms: {spatial_step}\")\n",
    "new_x = int(nifti_2.shape[0]/(spatial_step[0]/zooms[0]))\n",
    "new_y = int(nifti_2.shape[1]/(spatial_step[1]/zooms[1]))\n",
    "new_z = int(nifti_2.shape[2]/(spatial_step[2]/zooms[2]))\n",
    "T1W_affine_upscaled = affines.rescale_affine(nifti_2.affine.copy(),\n",
    "                                         nifti_2.shape,\n",
    "                                         spatial_step,\n",
    "                                         (new_x,new_y,new_z))\n",
    "\n",
    "# Output dimensions\n",
    "output_data = np.zeros((new_x,new_y,new_z),dtype=np.uint8)\n",
    "output_nifti = nifti1.Nifti1Image(output_data,T1W_affine_upscaled)\n",
    "print(f\"Output Dimensions: {output_data.shape}\")\n",
    "print(f\"Output Size: {output_data.size}\")"
   ]
  },
  {
   "cell_type": "markdown",
   "id": "8",
   "metadata": {},
   "source": [
    "### Run Resample Step"
   ]
  },
  {
   "cell_type": "code",
   "execution_count": null,
   "id": "9",
   "metadata": {},
   "outputs": [],
   "source": [
    "# Select a resample method\n",
    "# resample_method = 'CPU' # Truth method, accurate but takes longer especially for higher resolutions\n",
    "resample_method = 'GPU' # Much faster, but can have slight deviations from truth. Acceptable for purposes of this test.\n",
    "print(f\"Resampling via {resample_method}\")\n",
    "\n",
    "# Set resample order and mode (default is 3 and 'constant')\n",
    "order = 0\n",
    "mode = 'constant' #'nearest'\n",
    "\n",
    "\n",
    "if resample_method == 'CPU':\n",
    "    # Reload file if it was created already, otherwise generate and save file\n",
    "    resampled_fname_1 = base_name_1 + f\"_resampled_{resample_method}_mode_{mode}_order_{order}_spatial_step_{spatial_step_text}.nii.gz\"\n",
    "    resampled_fname_2 = base_name_2 + f\"_resampled_{resample_method}_mode_{mode}_order_{order}_spatial_step_{spatial_step_text}.nii.gz\"\n",
    "\n",
    "    # File 1\n",
    "    if os.path.exists(resampled_fname_1):\n",
    "        print('Reloading file')\n",
    "        resampled_nifti_1 = nibabel.load(resampled_fname_1)\n",
    "        resampled_data_1 = resampled_nifti_1.get_fdata()\n",
    "    else:\n",
    "        print('Generating file')\n",
    "        resampled_nifti_1 = processing.resample_from_to(nifti_1,output_nifti,mode=mode,order=order,cval=data_1.min()) # Truth method\n",
    "        print('Saving file')\n",
    "        nibabel.save(resampled_nifti_1,resampled_fname_1)\n",
    "        print('Collecting data')\n",
    "        resampled_data_1 = resampled_nifti_1.get_fdata()\n",
    "    \n",
    "    # File 2\n",
    "    if os.path.exists(resampled_fname_2):\n",
    "        print('Reloading file')\n",
    "        resampled_nifti_2 = nibabel.load(resampled_fname_2)\n",
    "        resampled_data_2 = resampled_nifti_2.get_fdata()\n",
    "    else:\n",
    "        print('Generating file')\n",
    "        resampled_nifti_2 = processing.resample_from_to(nifti_2,output_nifti,mode=mode,order=order,cval=data_2.min()) # Truth method\n",
    "        print('Saving file')\n",
    "        nibabel.save(resampled_nifti_2,resampled_fname_2)\n",
    "        print('Reloading file')\n",
    "        resampled_data_2 = resampled_nifti_2.get_fdata()\n",
    "elif resample_method == 'GPU':\n",
    "    # Generating file is typically faster than reloading a saved file\n",
    "    \n",
    "    # File 1\n",
    "    print('Generating file')\n",
    "    resampled_nifti_1 = Resample.ResampleFromTo(nifti_1,output_nifti,mode=mode,order=order,cval=data_1.min(),GPUBackend=GPUBackend)\n",
    "    resampled_data_1 = resampled_nifti_1.get_fdata()\n",
    "    \n",
    "    # File 2\n",
    "    print('Generating file')\n",
    "    resampled_nifti_2 = Resample.ResampleFromTo(nifti_2,output_nifti,mode=mode,order=order,cval=data_2.min(),GPUBackend=GPUBackend)\n",
    "    resampled_data_2 = resampled_nifti_2.get_fdata()"
   ]
  },
  {
   "cell_type": "markdown",
   "id": "10",
   "metadata": {},
   "source": [
    "### Prepare Data"
   ]
  },
  {
   "cell_type": "code",
   "execution_count": null,
   "id": "11",
   "metadata": {},
   "outputs": [],
   "source": [
    "# Check input data dtype\n",
    "if resampled_data_1.dtype != np.float32:\n",
    "    print(\"Changing input data to be of float32 datatype\")\n",
    "    resampled_data_1 = resampled_data_1.astype(np.float32)\n",
    "if resampled_data_2.dtype != np.float32:\n",
    "    print(\"Changing input data to be of float32 datatype\")\n",
    "    resampled_data_2 = resampled_data_2.astype(np.float32)\n",
    "    \n",
    "# Check input data is contiguous\n",
    "if not resampled_data_1.flags.contiguous:\n",
    "    print(\"Changing input data to be a contiguous array\")\n",
    "    resampled_data_1 = np.ascontiguousarray(resampled_data_1)\n",
    "if not resampled_data_2.flags.contiguous:\n",
    "    print(\"Changing input data to be a contiguous array\")\n",
    "    resampled_data_2 = np.ascontiguousarray(resampled_data_2)\n",
    "    \n",
    "\n",
    "SelBone = (resampled_data_1==7)\n",
    "print(SelBone.shape,resampled_data_2.shape)\n",
    "UniqueHU=np.unique(resampled_data_2[SelBone])\n",
    "print(UniqueHU.shape,len(UniqueHU))"
   ]
  },
  {
   "cell_type": "markdown",
   "id": "12",
   "metadata": {},
   "source": [
    "### Run Map Filter Step"
   ]
  },
  {
   "cell_type": "code",
   "execution_count": null,
   "id": "13",
   "metadata": {},
   "outputs": [],
   "source": [
    "with CodeTimer(\"Map Filter via GPU\", unit=\"s\"):\n",
    "    data_map_gpu=MappingFilter.MapFilter(resampled_data_2,SelBone.astype(np.uint8),UniqueHU,GPUBackend=GPUBackend)\n",
    "\n",
    "with CodeTimer(\"Map Filter via CPU\", unit=\"s\"):\n",
    "    print(f\"Starting Map Filter\")\n",
    "    CTMap_truth_fname = base_name_2 + f\"_map_filter_CPU_mode_{mode}_order_{order}_spatial_step_{spatial_step_text}.nii.gz\"\n",
    "    if os.path.exists(CTMap_truth_fname):\n",
    "        print(\"Reloading CPU file\")\n",
    "        data_map_cpu = nibabel.load(CTMap_truth_fname).get_fdata().astype(np.uint32)\n",
    "    else:\n",
    "        print(\"Generating CPU file\")\n",
    "        data_map_cpu=np.zeros(resampled_data_2.shape,np.uint32)\n",
    "        for n,d in enumerate(UniqueHU):\n",
    "            data_map_cpu[resampled_data_2==d]=n\n",
    "        data_map_cpu[SelBone==False]=0\n",
    "\n",
    "        nifti_map_filter_cpu = nibabel.Nifti1Image(data_map_cpu,T1W_affine_upscaled)\n",
    "        print('Saving CPU file')\n",
    "        nibabel.save(nifti_map_filter_cpu,CTMap_truth_fname)\n",
    "\n",
    "# Ensure arrays are same size and dtype\n",
    "if  data_map_gpu.size != data_map_cpu.size:\n",
    "    print(f\"Array sizes don't match: {data_map_cpu.size} vs {data_map_cpu.size}\")\n",
    "if  data_map_gpu.size == 0:\n",
    "    print(\"Arrays are empty\")\n",
    "if  data_map_gpu.size == data_map_cpu.dtype:\n",
    "    print(\"Arrays have different dtypes, changing them to match\")\n",
    "    data_map_gpu.astype(data_map_cpu.dtype)\n",
    "    "
   ]
  },
  {
   "cell_type": "markdown",
   "id": "14",
   "metadata": {},
   "source": [
    "### Plot Data"
   ]
  },
  {
   "cell_type": "code",
   "execution_count": null,
   "id": "15",
   "metadata": {},
   "outputs": [],
   "source": [
    "fig, axs = plt.subplots(3, 4, figsize=(9, 7))\n",
    "\n",
    "slice_num = resampled_data_1.shape[0]//2\n",
    "axs[0,0].set_title(\"Original Data 1\")\n",
    "axs[0,0].imshow(np.rot90(SelBone[slice_num,:,:]), cmap='gray')\n",
    "axs[0,1].set_title(\"Original Data 2\")\n",
    "axs[0,1].imshow(np.rot90(resampled_data_2[slice_num,:,:]), cmap='gray')\n",
    "axs[0,2].set_title(\"CPU Map\\nFilter Results\")\n",
    "axs[0,2].imshow(np.rot90(data_map_cpu[slice_num,:,:]))\n",
    "axs[0,3].set_title(\"GPU Map\\nFilter Results\")\n",
    "axs[0,3].imshow(np.rot90(data_map_gpu[slice_num,:,:]))\n",
    "\n",
    "slice_num = resampled_data_1.shape[2]//2\n",
    "axs[1,0].imshow(SelBone[:,:,slice_num], cmap='gray')\n",
    "axs[1,1].imshow(resampled_data_2[:,:,slice_num], cmap='gray')\n",
    "axs[1,2].imshow(data_map_cpu[:,:,slice_num])\n",
    "axs[1,3].imshow(data_map_gpu[:,:,slice_num])\n",
    "\n",
    "slice_num = resampled_data_1.shape[1]//2\n",
    "axs[2,0].imshow(np.rot90(SelBone[:,slice_num,:]), cmap='gray')\n",
    "axs[2,1].imshow(np.rot90(resampled_data_2[:,slice_num,:]), cmap='gray')\n",
    "axs[2,2].imshow(np.rot90(data_map_cpu[:,slice_num,:]))\n",
    "axs[2,3].imshow(np.rot90(data_map_gpu[:,slice_num,:]))\n",
    "\n",
    "# Adjust plots\n",
    "plt.subplots_adjust(top=0.8,bottom=0.2,wspace=0.1, hspace=0)\n",
    "plt.tight_layout()"
   ]
  },
  {
   "cell_type": "markdown",
   "id": "16",
   "metadata": {},
   "source": [
    "### Check Output Data Matches Truth Data"
   ]
  },
  {
   "cell_type": "code",
   "execution_count": null,
   "id": "17",
   "metadata": {},
   "outputs": [],
   "source": [
    "data_match = np.all(data_map_cpu==data_map_gpu)\n",
    "print(f\"Data matches? {data_match}\")\n",
    "\n",
    "if not data_match:\n",
    "    # DICE coefficient calculation\n",
    "    matches = abs(data_map_gpu - data_map_cpu) < 1e-6\n",
    "    matches_count = len(matches[matches==True])\n",
    "    dice_coeff = 2 * matches_count / (data_map_cpu.size + data_map_gpu.size)\n",
    "    print(f\"Dice Coefficient: {dice_coeff}\")\n",
    "\n",
    "    # Plot difference images\n",
    "    diffs = abs(data_map_gpu - data_map_cpu)\n",
    "\n",
    "    fig, axs = plt.subplots(3, 1, figsize=(4, 12))\n",
    "\n",
    "    slice_num = diffs.shape[0]//2\n",
    "    axs[0,0].imshow(np.rot90(diffs[slice_num,:,:]), cmap='gray')\n",
    "\n",
    "    slice_num = diffs.shape[2]//2\n",
    "    axs[1,0].imshow(diffs[:,:,slice_num], cmap='gray')\n",
    "\n",
    "    slice_num = diffs.shape[1]//2\n",
    "    axs[2,0].imshow(np.rot90(diffs[:,slice_num,:]), cmap='gray')\n",
    "\n",
    "    plt.tight_layout()\n",
    "\n",
    "    # Get difference histograms\n",
    "    hist,bins = np.histogram(diffs)\n",
    "    print(f\"Difference Histogram\")\n",
    "    for bin in range(len(bins)-1):\n",
    "        print(f\"{bins[bin]:.2f} to {bins[bin+1]:.2f}: {hist[bin]}\")\n",
    "\n",
    "    # Mean square error calculation\n",
    "    mse = mean_squared_error(data_map_cpu,data_map_gpu)\n",
    "    print(f\"Mean square error: {mse}\")\n",
    "\n",
    "    # Normalized root mean square error calculation\n",
    "    nrmse = normalized_root_mse(data_map_cpu,data_map_gpu,normalization='min-max')\n",
    "    print(f\"Normalized root mean square error: {nrmse}\")"
   ]
  }
 ],
 "metadata": {
  "kernelspec": {
   "display_name": "bbl_dev2",
   "language": "python",
   "name": "python3"
  },
  "language_info": {
   "codemirror_mode": {
    "name": "ipython",
    "version": 3
   },
   "file_extension": ".py",
   "mimetype": "text/x-python",
   "name": "python",
   "nbconvert_exporter": "python",
   "pygments_lexer": "ipython3",
   "version": "3.10.13"
  }
 },
 "nbformat": 4,
 "nbformat_minor": 5
}
