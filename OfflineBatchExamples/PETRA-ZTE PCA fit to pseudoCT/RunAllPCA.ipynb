{
 "cells": [
  {
   "cell_type": "code",
   "execution_count": 2,
   "id": "e45a2c97-676a-4493-ae82-98ba52b606d0",
   "metadata": {},
   "outputs": [],
   "source": [
    "%load_ext autoreload\n",
    "%autoreload 2"
   ]
  },
  {
   "cell_type": "code",
   "execution_count": 2,
   "id": "e20d6cb0-b0bd-4b3f-8007-42b435298ed5",
   "metadata": {},
   "outputs": [
    {
     "name": "stdout",
     "output_type": "stream",
     "text": [
      "StaggeredFDTD_3D_CPU loaded\n",
      "StaggeredFDTD_3D_CUDA NOT loaded\n",
      "StaggeredFDTD_3D_OPENCL loaded\n",
      "StaggeredFDTD_3D_METAL loaded\n",
      "loading /Users/spichardo/miniconda3/envs/BabelJup2/lib/python3.9/site-packages/BabelViscoFDTD/tools/libBabelMetal.dylib\n",
      "loaded Metal <CDLL '/Users/spichardo/miniconda3/envs/BabelJup2/lib/python3.9/site-packages/BabelViscoFDTD/tools/libBabelMetal.dylib', handle 2831af730 at 0x3058bc7c0>\n",
      "mkl_fft not available\n"
     ]
    }
   ],
   "source": [
    "from matplotlib import pyplot as plt\n",
    "import Code\n",
    "import sys\n",
    "from glob import glob\n",
    "%matplotlib inline\n",
    "from os.path import join as jn\n",
    "import os\n",
    "from BabelViscoFDTD.H5pySimple import ReadFromH5py, SaveToH5py\n",
    "import numpy as np"
   ]
  },
  {
   "cell_type": "markdown",
   "id": "e5bd7746-487d-4d20-9d8e-5479f60745b2",
   "metadata": {},
   "source": [
    "# Run all `RunPCA_FIT_ZTE_PETRA.ipynb` steps for multiple cases\n",
    "We will use the location of `Target.txt` files to identify the casez"
   ]
  },
  {
   "cell_type": "code",
   "execution_count": 10,
   "id": "fc195e4f-79e1-46c7-9f82-201f6c3f1178",
   "metadata": {},
   "outputs": [
    {
     "data": {
      "text/plain": [
       "['DATA/ID_0068/Target.txt',\n",
       " 'DATA/ID_0080/Target.txt',\n",
       " 'DATA/ID_0081/Target.txt',\n",
       " 'DATA/ID_0082/Target.txt',\n",
       " 'DATA/ID_0083/Target.txt',\n",
       " 'DATA/ID_0084/Target.txt',\n",
       " 'DATA/ID_0086/Target.txt',\n",
       " 'DATA/ID_0094/Target.txt',\n",
       " 'DATA/ID_0095/Target.txt']"
      ]
     },
     "execution_count": 10,
     "metadata": {},
     "output_type": "execute_result"
    }
   ],
   "source": [
    "Ldirs=glob('**/**/Target.txt')\n",
    "Ldirs.sort()\n",
    "Ldirs"
   ]
  },
  {
   "cell_type": "code",
   "execution_count": null,
   "id": "1c7d7b87-eec9-4016-bcb8-7f9f7a554470",
   "metadata": {},
   "outputs": [],
   "source": [
    "for l in Ldirs:\n",
    "    \n",
    "    BasePath=os.path.split(l)[0]\n",
    "    print('*'*60)\n",
    "    print('*'*60)\n",
    "    print(BasePath)\n",
    "    print('*'*60)\n",
    "    print('*'*60)\n",
    "    \n",
    "\n",
    "    simbnibs_path=jn(BasePath,'m2m_'+os.path.split(BasePath)[1])\n",
    "    Mat4Trajectory=jn(BasePath,'Target.txt')\n",
    "    ComputingDevice='M3'\n",
    "    ID = 'Target'\n",
    "    \n",
    "    ZTE=jn(BasePath,'ZTE.nii.gz') #use always ZTE.nii.gz as file name regardless if ZTE o PETRA\n",
    "    \n",
    "    CTType =2 # 2 = ZTE, 3 = PETRA ; CHANGE accordingly\n",
    "    \n",
    "    # We instantiate the class\n",
    "    P=Code.Processing(BasePath,\n",
    "                          ID,\n",
    "                          simbnibs_path,\n",
    "                          Mat4Trajectory,\n",
    "                          ComputingDevice=ComputingDevice,\n",
    "                          ZTE=ZTE,\n",
    "                          CTType=CTType)\n",
    "    P.Run_mask_creation(bForceRecalculate=False)\n",
    "    P.RunElastix('FiniteDifferenceGradientDescent',bCToMRI=True)\n",
    "    P.ShowFirstPart(LineSep=120)\n",
    "    P.ProcessMRI(ZTERange=[0.1,0.65])\n",
    "    plt.close('all')"
   ]
  },
  {
   "cell_type": "markdown",
   "id": "b8d3f170-1ef3-4dff-9af3-94eb5e8c91a0",
   "metadata": {},
   "source": [
    "# Combine all ZTE/PETRA and CT data for a global PCA fitting"
   ]
  },
  {
   "cell_type": "code",
   "execution_count": 3,
   "id": "0a583918-a6ee-44fb-b0c3-5559b0e401e4",
   "metadata": {},
   "outputs": [
    {
     "data": {
      "text/plain": [
       "['DATA/ID_0068/PCAFitData.h5',\n",
       " 'DATA/ID_0080/PCAFitData.h5',\n",
       " 'DATA/ID_0081/PCAFitData.h5',\n",
       " 'DATA/ID_0082/PCAFitData.h5',\n",
       " 'DATA/ID_0083/PCAFitData.h5',\n",
       " 'DATA/ID_0084/PCAFitData.h5',\n",
       " 'DATA/ID_0086/PCAFitData.h5',\n",
       " 'DATA/ID_0094/PCAFitData.h5',\n",
       " 'DATA/ID_0095/PCAFitData.h5']"
      ]
     },
     "execution_count": 3,
     "metadata": {},
     "output_type": "execute_result"
    }
   ],
   "source": [
    "AllRes=glob('**/**/PCAFitData.h5')\n",
    "AllRes.sort()\n",
    "AllRes"
   ]
  },
  {
   "cell_type": "code",
   "execution_count": 4,
   "id": "bb58afde-ca56-43c6-8c0b-780d052ea338",
   "metadata": {},
   "outputs": [],
   "source": [
    "\n",
    "for n,l in enumerate(AllRes):\n",
    "    d=ReadFromH5py(l)\n",
    "    if n==0:\n",
    "        data=d['data']\n",
    "        NewPCAFit=d['NewPCAFit']\n",
    "    else:\n",
    "        data=np.vstack((data,d['data']))\n",
    "        NewPCAFit=np.vstack((NewPCAFit,d['NewPCAFit']))\n",
    "    "
   ]
  },
  {
   "cell_type": "code",
   "execution_count": 5,
   "id": "4e9f9599-5b50-40f3-9e24-5fbf22febf53",
   "metadata": {},
   "outputs": [
    {
     "name": "stdout",
     "output_type": "stream",
     "text": [
      "[-2882.98850414  2711.5227993 ]\n",
      "[-2768.68431946  2879.09153883]\n",
      "[-2365.96049026  2411.82604019]\n",
      "[-2696.35113285  2782.47157727]\n",
      "[-2916.33938954  2680.64528247]\n",
      "[-2695.04384417  2591.68172682]\n",
      "[-2882.12624265  2680.91894907]\n",
      "[-2895.07566613  2911.7656579 ]\n",
      "[-2890.13217252  2922.43712964]\n"
     ]
    }
   ],
   "source": [
    "# print individualized PCA fit parameters\n",
    "for e in NewPCAFit:\n",
    "    print(e)"
   ]
  },
  {
   "cell_type": "markdown",
   "id": "feead68b-ca6d-4edf-9374-f30f85c7d1cd",
   "metadata": {},
   "source": [
    "# Run PCA fitting"
   ]
  },
  {
   "cell_type": "code",
   "execution_count": 6,
   "id": "4b68d9f0-c375-4ede-8a00-49b76e66033d",
   "metadata": {},
   "outputs": [],
   "source": [
    "# Run\n",
    "bIsPetra = False # If false, we assume ZTE\n",
    "\n",
    "from sklearn.preprocessing import StandardScaler\n",
    "from sklearn.decomposition import PCA\n",
    "\n",
    "sc = StandardScaler()\n",
    "\n",
    "X=sc.fit_transform(data)\n",
    "X_mean = np.mean(X, axis=0)\n",
    "\n",
    "# Apply PCA\n",
    "pca = PCA(n_components=2)\n",
    "pca.fit(X)\n",
    "\n",
    "\n",
    "'''\n",
    "We get the PCA first component to obtain a linear fitting function\n",
    "'''\n",
    "\n",
    "# First principal component\n",
    "pc1 = pca.components_[0]\n",
    "\n",
    "# Compute slope (b/a)\n",
    "m = pc1[1] / pc1[0]  # slope of the first principal component\n",
    "\n",
    "# Compute intercept\n",
    "c = X_mean[1] - m * X_mean[0]\n",
    "\n",
    "# Generate fitted line points\n",
    "x_fit = np.linspace(min(X[:,0]), max(X[:,0]), 100)\n",
    "y_fit = m * x_fit + c\n",
    "\n",
    "# Print the final line equation\n",
    "xf2=x_fit*sc.scale_[0]+sc.mean_[0]\n",
    "yf2=y_fit*sc.scale_[1]+sc.mean_[1]\n",
    "\n",
    "# These are the conversion factors used by default in BabelBrain\n",
    "if bIsPetra:\n",
    "    yf3=xf2*(-2929.6)+ 3274.9\n",
    "else:\n",
    "    yf3=xf2*(-2085)+ 2329.0"
   ]
  },
  {
   "cell_type": "code",
   "execution_count": 7,
   "id": "d90c2de2-631c-4025-9e4b-00e19502a1e0",
   "metadata": {},
   "outputs": [
    {
     "name": "stdout",
     "output_type": "stream",
     "text": [
      " New PCA fitting formula [-2842.12280745  2784.47497082]\n"
     ]
    },
    {
     "data": {
      "image/png": "[encoded data removed]",
      "text/plain": [
       "<Figure size 640x480 with 1 Axes>"
      ]
     },
     "metadata": {},
     "output_type": "display_data"
    }
   ],
   "source": [
    "plt.figure()\n",
    "plt.hist2d(data[:,0],data[:,1],bins=50)\n",
    "plt.plot(xf2,yf2,label=\"PCA Fit\", color='blue', linestyle='dashed')\n",
    "plt.plot(xf2,yf3,label=\"Orig.\", color='red', linestyle='dashed')\n",
    "plt.xlabel(\"ZTE\")\n",
    "plt.ylabel(\"HY\")\n",
    "plt.legend()\n",
    "plt.title(\"PCA-Based unnormalized Linear Fit\")\n",
    "\n",
    "\n",
    "'''\n",
    "We convert from PCA normalized condition fitting to un-normalized\n",
    "This is the new fitting formula for ZTE/PETRA to pseudo CT\n",
    "'''\n",
    "lin_fit=np.polyfit(xf2,yf2,1)\n",
    "print(' New PCA fitting formula', lin_fit)"
   ]
  },
  {
   "cell_type": "code",
   "execution_count": null,
   "id": "ed7f3e00-e937-46dd-bc9c-93b60f53b255",
   "metadata": {},
   "outputs": [],
   "source": []
  }
 ],
 "metadata": {
  "kernelspec": {
   "display_name": "Python 3 (ipykernel)",
   "language": "python",
   "name": "python3"
  },
  "language_info": {
   "codemirror_mode": {
    "name": "ipython",
    "version": 3
   },
   "file_extension": ".py",
   "mimetype": "text/x-python",
   "name": "python",
   "nbconvert_exporter": "python",
   "pygments_lexer": "ipython3",
   "version": "3.9.13"
  }
 },
 "nbformat": 4,
 "nbformat_minor": 5
}
