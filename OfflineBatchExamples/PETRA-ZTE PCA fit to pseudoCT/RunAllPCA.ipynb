{
 "cells": [
  {
   "cell_type": "code",
   "execution_count": null,
   "id": "0",
   "metadata": {},
   "outputs": [],
   "source": [
    "%load_ext autoreload\n",
    "%autoreload 2"
   ]
  },
  {
   "cell_type": "code",
   "execution_count": null,
   "id": "1",
   "metadata": {},
   "outputs": [],
   "source": [
    "from matplotlib import pyplot as plt\n",
    "import Code\n",
    "import sys\n",
    "from glob import glob\n",
    "%matplotlib inline\n",
    "from os.path import join as jn\n",
    "import os\n",
    "from BabelViscoFDTD.H5pySimple import ReadFromH5py, SaveToH5py\n",
    "import numpy as np"
   ]
  },
  {
   "cell_type": "markdown",
   "id": "2",
   "metadata": {},
   "source": [
    "# Run all `RunPCA_FIT_ZTE_PETRA.ipynb` steps for multiple cases\n",
    "We will use the location of `Target.txt` files to identify the casez"
   ]
  },
  {
   "cell_type": "code",
   "execution_count": null,
   "id": "3",
   "metadata": {},
   "outputs": [],
   "source": [
    "Ldirs=glob('**/**/Target.txt')\n",
    "Ldirs.sort()\n",
    "Ldirs"
   ]
  },
  {
   "cell_type": "code",
   "execution_count": null,
   "id": "4",
   "metadata": {},
   "outputs": [],
   "source": [
    "for l in Ldirs:\n",
    "    \n",
    "    BasePath=os.path.split(l)[0]\n",
    "    print('*'*60)\n",
    "    print('*'*60)\n",
    "    print(BasePath)\n",
    "    print('*'*60)\n",
    "    print('*'*60)\n",
    "    \n",
    "\n",
    "    simbnibs_path=jn(BasePath,'m2m_'+os.path.split(BasePath)[1])\n",
    "    Mat4Trajectory=jn(BasePath,'Target.txt')\n",
    "    ComputingDevice='M3'\n",
    "    ID = 'Target'\n",
    "    \n",
    "    ZTE=jn(BasePath,'ZTE.nii.gz') #use always ZTE.nii.gz as file name regardless if ZTE o PETRA\n",
    "    \n",
    "    CTType =2 # 2 = ZTE, 3 = PETRA ; CHANGE accordingly\n",
    "    \n",
    "    # We instantiate the class\n",
    "    P=Code.Processing(BasePath,\n",
    "                          ID,\n",
    "                          simbnibs_path,\n",
    "                          Mat4Trajectory,\n",
    "                          ComputingDevice=ComputingDevice,\n",
    "                          ZTE=ZTE,\n",
    "                          CTType=CTType)\n",
    "    P.Run_mask_creation(bForceRecalculate=False)\n",
    "    P.RunElastix('FiniteDifferenceGradientDescent',bCToMRI=True)\n",
    "    P.ShowFirstPart(LineSep=120)\n",
    "    P.ProcessMRI(ZTERange=[0.1,0.65])\n",
    "    plt.close('all')"
   ]
  },
  {
   "cell_type": "markdown",
   "id": "5",
   "metadata": {},
   "source": [
    "# Combine all ZTE/PETRA and CT data for a global PCA fitting"
   ]
  },
  {
   "cell_type": "code",
   "execution_count": null,
   "id": "6",
   "metadata": {},
   "outputs": [],
   "source": [
    "AllRes=glob('**/**/PCAFitData.h5')\n",
    "AllRes.sort()\n",
    "AllRes"
   ]
  },
  {
   "cell_type": "code",
   "execution_count": null,
   "id": "7",
   "metadata": {},
   "outputs": [],
   "source": [
    "\n",
    "for n,l in enumerate(AllRes):\n",
    "    d=ReadFromH5py(l)\n",
    "    if n==0:\n",
    "        data=d['data']\n",
    "        NewPCAFit=d['NewPCAFit']\n",
    "    else:\n",
    "        data=np.vstack((data,d['data']))\n",
    "        NewPCAFit=np.vstack((NewPCAFit,d['NewPCAFit']))\n",
    "    "
   ]
  },
  {
   "cell_type": "code",
   "execution_count": null,
   "id": "8",
   "metadata": {},
   "outputs": [],
   "source": [
    "# print individualized PCA fit parameters\n",
    "for e in NewPCAFit:\n",
    "    print(e)"
   ]
  },
  {
   "cell_type": "markdown",
   "id": "9",
   "metadata": {},
   "source": [
    "# Run PCA fitting"
   ]
  },
  {
   "cell_type": "code",
   "execution_count": null,
   "id": "10",
   "metadata": {},
   "outputs": [],
   "source": [
    "# Run\n",
    "bIsPetra = False # If false, we assume ZTE\n",
    "\n",
    "from sklearn.preprocessing import StandardScaler\n",
    "from sklearn.decomposition import PCA\n",
    "\n",
    "sc = StandardScaler()\n",
    "\n",
    "X=sc.fit_transform(data)\n",
    "X_mean = np.mean(X, axis=0)\n",
    "\n",
    "# Apply PCA\n",
    "pca = PCA(n_components=2)\n",
    "pca.fit(X)\n",
    "\n",
    "\n",
    "'''\n",
    "We get the PCA first component to obtain a linear fitting function\n",
    "'''\n",
    "\n",
    "# First principal component\n",
    "pc1 = pca.components_[0]\n",
    "\n",
    "# Compute slope (b/a)\n",
    "m = pc1[1] / pc1[0]  # slope of the first principal component\n",
    "\n",
    "# Compute intercept\n",
    "c = X_mean[1] - m * X_mean[0]\n",
    "\n",
    "# Generate fitted line points\n",
    "x_fit = np.linspace(min(X[:,0]), max(X[:,0]), 100)\n",
    "y_fit = m * x_fit + c\n",
    "\n",
    "# Print the final line equation\n",
    "xf2=x_fit*sc.scale_[0]+sc.mean_[0]\n",
    "yf2=y_fit*sc.scale_[1]+sc.mean_[1]\n",
    "\n",
    "# These are the conversion factors used by default in BabelBrain\n",
    "if bIsPetra:\n",
    "    yf3=xf2*(-2929.6)+ 3274.9\n",
    "else:\n",
    "    yf3=xf2*(-2085)+ 2329.0"
   ]
  },
  {
   "cell_type": "code",
   "execution_count": null,
   "id": "11",
   "metadata": {},
   "outputs": [],
   "source": [
    "plt.figure()\n",
    "plt.hist2d(data[:,0],data[:,1],bins=50)\n",
    "plt.plot(xf2,yf2,label=\"PCA Fit\", color='blue', linestyle='dashed')\n",
    "plt.plot(xf2,yf3,label=\"Orig.\", color='red', linestyle='dashed')\n",
    "plt.xlabel(\"ZTE\")\n",
    "plt.ylabel(\"HY\")\n",
    "plt.legend()\n",
    "plt.title(\"PCA-Based unnormalized Linear Fit\")\n",
    "\n",
    "\n",
    "'''\n",
    "We convert from PCA normalized condition fitting to un-normalized\n",
    "This is the new fitting formula for ZTE/PETRA to pseudo CT\n",
    "'''\n",
    "lin_fit=np.polyfit(xf2,yf2,1)\n",
    "print(' New PCA fitting formula', lin_fit)"
   ]
  },
  {
   "cell_type": "code",
   "execution_count": null,
   "id": "12",
   "metadata": {},
   "outputs": [],
   "source": []
  }
 ],
 "metadata": {
  "kernelspec": {
   "display_name": "Python 3 (ipykernel)",
   "language": "python",
   "name": "python3"
  },
  "language_info": {
   "codemirror_mode": {
    "name": "ipython",
    "version": 3
   },
   "file_extension": ".py",
   "mimetype": "text/x-python",
   "name": "python",
   "nbconvert_exporter": "python",
   "pygments_lexer": "ipython3",
   "version": "3.9.13"
  }
 },
 "nbformat": 4,
 "nbformat_minor": 5
}
