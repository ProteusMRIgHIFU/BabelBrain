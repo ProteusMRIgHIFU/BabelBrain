{
 "cells": [
  {
   "cell_type": "markdown",
   "id": "0",
   "metadata": {},
   "source": [
    "# Estimation of PCA fitting for conversion from ZTE/PETRA to pseudo CT"
   ]
  },
  {
   "cell_type": "code",
   "execution_count": null,
   "id": "1",
   "metadata": {},
   "outputs": [],
   "source": [
    "%load_ext autoreload\n",
    "%autoreload 2"
   ]
  },
  {
   "cell_type": "code",
   "execution_count": null,
   "id": "2",
   "metadata": {},
   "outputs": [],
   "source": [
    "import Code\n",
    "import sys\n",
    "%matplotlib inline\n",
    "from os.path import join as jn"
   ]
  },
  {
   "cell_type": "markdown",
   "id": "3",
   "metadata": {},
   "source": [
    "# Step 1 - define inputs\n",
    "* `BasePath`: Path to root directory where **T1W.nii.gz**, **ZTE.nii.gz** and **CT.nii.gz** files are located. **Be sure files are named exaclty like this**.\n",
    "* `simbnibs_path` : Path to SimNIBS charm's output dir, it must be under BasePath\n",
    "* `Mat4Trajectory` : Path to trajectory file exported from Brainsight. Be sure of calling **Target.txt**\n",
    "* `ComputingDevice` : Type of processor in your computer, either M1, M2, M3 or M4 (no need to add max or pro monikers)\n",
    "* `ID`' : ID for files, keep it with the value of **Target**\n",
    "* `ZTE` : Path to ZTE or PETRA file, the file itself must be named **ZTE.nii.gz** regardless it is a ZTE or PETRA scan.\n",
    "* `CTType` : Type of scan, use 2 for ZTE and 3 for PETRA"
   ]
  },
  {
   "cell_type": "code",
   "execution_count": null,
   "id": "4",
   "metadata": {},
   "outputs": [],
   "source": [
    "BasePath='./DATA/ID_0068/'\n",
    "simbnibs_path=jn(BasePath,'m2m_ID_0068')\n",
    "Mat4Trajectory=jn(BasePath,'Target.txt')\n",
    "ComputingDevice='M3'\n",
    "ID = 'Target'\n",
    "\n",
    "ZTE=jn(BasePath,'ZTE.nii.gz') #use always ZTE.nii.gz as file name regardless if ZTE o PETRA\n",
    "\n",
    "CTType =2 # 2 = ZTE, 3 = PETRA ; CHANGE accordingly\n",
    "\n",
    "# We instantiate the class\n",
    "P=Code.Processing(BasePath,\n",
    "                      ID,\n",
    "                      simbnibs_path,\n",
    "                      Mat4Trajectory,\n",
    "                      ComputingDevice=ComputingDevice,\n",
    "                      ZTE=ZTE,\n",
    "                      CTType=CTType)"
   ]
  },
  {
   "cell_type": "markdown",
   "id": "5",
   "metadata": {},
   "source": [
    "---\n",
    "# Step 2: Run BabelBrain step 1 to generate files we will need for the processing\n",
    "#### The code below will do the same process that is being called in Step 1 of the BabelBrain's GUI"
   ]
  },
  {
   "cell_type": "code",
   "execution_count": null,
   "id": "6",
   "metadata": {},
   "outputs": [],
   "source": [
    "#REFERENCE\n",
    "P.Run_mask_creation(bForceRecalculate=False)\n"
   ]
  },
  {
   "cell_type": "markdown",
   "id": "7",
   "metadata": {},
   "source": [
    "---\n",
    "# Step 3 - Run coregistration from CT to pseudo CT space (T1W space)"
   ]
  },
  {
   "cell_type": "code",
   "execution_count": null,
   "id": "8",
   "metadata": {},
   "outputs": [],
   "source": [
    "P.RunElastix('FiniteDifferenceGradientDescent',bCToMRI=True)"
   ]
  },
  {
   "cell_type": "markdown",
   "id": "9",
   "metadata": {},
   "source": [
    "----\n",
    "#### Verify in fsleyes or other tool that the files `CT_in_T1W.nii.gz` and `ZTE_BiasCorrec_pCT.nii.gz` are correctly coregistered"
   ]
  },
  {
   "cell_type": "markdown",
   "id": "10",
   "metadata": {},
   "source": [
    "# Step 4 - Run analysis of  pseudo CT with the default values\n",
    "#### This will give us some initial assessment\n",
    "**Important**: Adjust **LineSep** value to show only the upper part of the skull."
   ]
  },
  {
   "cell_type": "code",
   "execution_count": null,
   "id": "11",
   "metadata": {},
   "outputs": [],
   "source": [
    "P.ShowFirstPart(LineSep=120)"
   ]
  },
  {
   "cell_type": "markdown",
   "id": "12",
   "metadata": {},
   "source": [
    "# Step 5 - Run PCA processing to find new fitting formula\n",
    "#### Adjust ZTERange to be sure only the skull region is segmented\n"
   ]
  },
  {
   "cell_type": "code",
   "execution_count": null,
   "id": "13",
   "metadata": {},
   "outputs": [],
   "source": [
    "P.ProcessMRI(ZTERange=[0.1,0.65])"
   ]
  },
  {
   "cell_type": "code",
   "execution_count": null,
   "id": "14",
   "metadata": {},
   "outputs": [],
   "source": []
  },
  {
   "cell_type": "code",
   "execution_count": null,
   "id": "15",
   "metadata": {},
   "outputs": [],
   "source": []
  }
 ],
 "metadata": {
  "kernelspec": {
   "display_name": "Python 3 (ipykernel)",
   "language": "python",
   "name": "python3"
  },
  "language_info": {
   "codemirror_mode": {
    "name": "ipython",
    "version": 3
   },
   "file_extension": ".py",
   "mimetype": "text/x-python",
   "name": "python",
   "nbconvert_exporter": "python",
   "pygments_lexer": "ipython3",
   "version": "3.9.13"
  }
 },
 "nbformat": 4,
 "nbformat_minor": 5
}
