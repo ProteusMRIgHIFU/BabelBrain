{
 "cells": [
  {
   "cell_type": "markdown",
   "id": "0",
   "metadata": {},
   "source": [
    "Analysis of results\n",
    "====\n",
    "This notebook reads the results obtained in Part 1 to calculate diverse metrics of similitude "
   ]
  },
  {
   "cell_type": "code",
   "execution_count": null,
   "id": "1",
   "metadata": {},
   "outputs": [],
   "source": [
    "import matplotlib.pyplot as plt\n",
    "import numpy as np\n",
    "import nibabel\n",
    "from glob import glob\n",
    "import pandas as pd\n",
    "import os\n",
    "from pprint import pprint\n",
    "from skimage.measure import label, regionprops, regionprops_table"
   ]
  },
  {
   "cell_type": "code",
   "execution_count": null,
   "id": "2",
   "metadata": {},
   "outputs": [],
   "source": [
    "#uncomment this to install itables for nice pandas table display and openpyxl to export to Excel\n",
    "#!pip install itables openpyxl"
   ]
  },
  {
   "cell_type": "code",
   "execution_count": null,
   "id": "3",
   "metadata": {},
   "outputs": [],
   "source": [
    "import itables\n",
    "from itables import init_notebook_mode\n",
    "init_notebook_mode(all_interactive=True)\n"
   ]
  },
  {
   "cell_type": "markdown",
   "id": "4",
   "metadata": {},
   "source": [
    "## Metrics \n",
    "The code below is used to compare Rayleigh+FDTD and Rayleigh alone in terms of peak pressure, L2-norm L-inf, focal spot location, and focal spot dimensions."
   ]
  },
  {
   "cell_type": "code",
   "execution_count": null,
   "id": "5",
   "metadata": {},
   "outputs": [],
   "source": [
    "def CalcVolumetricMetrics(Data,voxelsize):\n",
    "    DataN=Data/Data.max()\n",
    "    label_img=label(DataN>=0.5)\n",
    "    props = regionprops(label_img)#, properties=('centroid',   'area', 'moments_central','axis_major_length','axis_minor_length'))\n",
    "    Res={}\n",
    "    if len(props)>1:\n",
    "        Volumes=[]\n",
    "        for p in props:\n",
    "            Volumes.append(p['area'])  \n",
    "        p=props[np.argmax(Volumes)]\n",
    "    else:\n",
    "        p=props[0]\n",
    "    Res['centroid']=p['centroid']*voxelsize\n",
    "    Res['volume']=p['area']*np.prod(voxelsize)\n",
    "    Axes=ellipsoid_axis_lengths(p['moments_central'])\n",
    "    Res['long_axis']=Axes[0]*voxelsize[0]\n",
    "    Res['minor_axis_1']=Axes[1]*voxelsize[1]\n",
    "    Res['minor_axis_2']=Axes[2]*voxelsize[2]\n",
    "    # print(Res)\n",
    "    return Res\n",
    "\n",
    "def ellipsoid_axis_lengths(central_moments):\n",
    "    \"\"\"Compute ellipsoid major, intermediate and minor axis length.\n",
    "\n",
    "    Parameters\n",
    "    ----------\n",
    "    central_moments : ndarray\n",
    "        Array of central moments as given by ``moments_central`` with order 2.\n",
    "\n",
    "    Returns\n",
    "    -------\n",
    "    axis_lengths: tuple of float\n",
    "        The ellipsoid axis lengths in descending order.\n",
    "    \"\"\"\n",
    "    m0 = central_moments[0, 0, 0]\n",
    "    sxx = central_moments[2, 0, 0] / m0\n",
    "    syy = central_moments[0, 2, 0] / m0\n",
    "    szz = central_moments[0, 0, 2] / m0\n",
    "    sxy = central_moments[1, 1, 0] / m0\n",
    "    sxz = central_moments[1, 0, 1] / m0\n",
    "    syz = central_moments[0, 1, 1] / m0\n",
    "    S = np.asarray([[sxx, sxy, sxz], [sxy, syy, syz], [sxz, syz, szz]])\n",
    "    # determine eigenvalues in descending order\n",
    "    eigvals = np.sort(np.linalg.eigvalsh(S))[::-1]\n",
    "    return tuple([np.sqrt(20.0 * e) for e in eigvals])    \n",
    "\n",
    "def qcheck(InA,InB,bPlot=False):\n",
    "    A=nibabel.load(InA)\n",
    "    B=nibabel.load(InB)\n",
    "    AData=np.flip(A.get_fdata(),axis=2)\n",
    "    BData=np.flip(B.get_fdata(),axis=2)\n",
    "    #the layer where the source was placed should not be considered for comparison\n",
    "    # in cases where the Tx is moved \"into\" the skin, there will be a few layers with 0 values, \n",
    "    # the source is always placed in the first non-zero layer\n",
    "    CenterLine=AData[AData.shape[0]//2,AData.shape[1]//2,:]\n",
    "    nonzero=np.array(np.where(CenterLine!=0.0)).flatten()\n",
    "    AData=AData[:,:,nonzero[0]+1:]\n",
    "    BData=BData[:,:,nonzero[0]+1:]\n",
    "        \n",
    "    VolA=CalcVolumetricMetrics(AData,np.array(A.header.get_zooms()))\n",
    "    VolB=CalcVolumetricMetrics(BData,np.array(B.header.get_zooms()))\n",
    "\n",
    "    LocMaxA=np.array(np.where(AData==AData.max())).flatten()*np.array(A.header.get_zooms())\n",
    "    LocMaxB=np.array(np.where(BData==BData.max())).flatten()*np.array(B.header.get_zooms())\n",
    "\n",
    "    \n",
    "    Metrics={}\n",
    "    Metrics['Distance focal centroid']=np.linalg.norm(VolA['centroid']-VolB['centroid'])\n",
    "    Metrics['Distance focal max']=np.linalg.norm(LocMaxA-LocMaxB)\n",
    "    Metrics['Difference amplitude'] = 100 * (AData.max() - BData.max()) / BData.max()\n",
    "    Metrics['Difference volume'] = 100 * (VolA['volume'] -VolB['volume']) /VolB['volume']\n",
    "    Metrics['Difference acoustic long axis'] = 100 * (VolA['long_axis'] - VolB['long_axis']) / VolB['long_axis']\n",
    "    Metrics['Difference acoustic width 1'] = 100 * (VolA['minor_axis_1'] - VolB['minor_axis_1']) / VolB['minor_axis_1']\n",
    "    Metrics['Difference acoustic width 2'] = 100 * (VolA['minor_axis_2'] - VolB['minor_axis_2']) / VolB['minor_axis_2']\n",
    "    LInf=100.0 * np.abs(AData - BData) / BData.max()\n",
    "    Metrics['L Inf']= LInf.max()\n",
    "    Metrics['L Inf location']=np.array(np.where(LInf==Metrics['L Inf'])).flatten().tolist()\n",
    "    Metrics['L2']= 100.0 * np.sqrt(np.sum((AData - BData)**2) / np.sum(BData**2) )    \n",
    "    \n",
    "    if bPlot:\n",
    "        VoxA=A.header.get_zooms()\n",
    "        VoxB=B.header.get_zooms()\n",
    "\n",
    "        VoxA=A.header.get_zooms()\n",
    "        Zvec=VoxA[2]*np.arange(AData.shape[2])\n",
    "        LocMaxA=np.array(np.where(AData==AData.max())).flatten()\n",
    "        Inorm=20*np.log10(AData/AData.max())\n",
    "        \n",
    "        Zvec2=np.linspace(Zvec[0],Zvec[-1],len(Zvec)*20)\n",
    "        \n",
    "        AcAxis=np.interp(Zvec2,Zvec,Inorm[LocMaxA[0],LocMaxA[1],:])\n",
    "        Zvec=Zvec2\n",
    "        distance6dB = Zvec[AcAxis>=-6];\n",
    "        length6dB = distance6dB[-1]-distance6dB[0]\n",
    "        MaxLoc=np.argmax(AcAxis)\n",
    "        print('Length 6dB  in mm, limits and peak location=%4.3f,%4.3f,%4.3f,%4.3f\\n' %(\n",
    "            length6dB, distance6dB[0],distance6dB[-1],Zvec[MaxLoc]))\n",
    "        \n",
    "        LocMaxA=np.array(np.where(AData==AData.max())).flatten()\n",
    "        LocMaxB=np.array(np.where(BData==BData.max())).flatten()\n",
    "        \n",
    "        plt.figure(figsize=(16,4))\n",
    "        plt.subplot(1,4,1)\n",
    "        plt.imshow(AData[LocMaxA[0],:,:].T,cmap=plt.cm.gray)\n",
    "        plt.colorbar()\n",
    "        plt.title('FDTD - YZ')\n",
    "        plt.subplot(1,4,2)\n",
    "        plt.imshow(BData[LocMaxB[0],:,:].T,cmap=plt.cm.gray)\n",
    "        plt.colorbar()\n",
    "        plt.title('Rayleigh - YZ')\n",
    "        plt.subplot(1,4,3)\n",
    "        plt.imshow(AData[:,LocMaxA[1],:].T,cmap=plt.cm.gray)\n",
    "        plt.colorbar()\n",
    "        plt.title('FDTD - XZ')\n",
    "        plt.subplot(1,4,4)\n",
    "        plt.title('Rayleigh - XZ')\n",
    "        plt.imshow(BData[:,LocMaxB[1],:].T,cmap=plt.cm.gray)\n",
    "        plt.colorbar()\n",
    "        plt.suptitle('Comparison in plane at maximum peak pressure Rayleigh')\n",
    "        \n",
    "        plt.figure(figsize=(8,2))\n",
    "        AcN1=AData[LocMaxA[0],LocMaxA[1],:]\n",
    "        AcN2=BData[LocMaxB[0],LocMaxB[1],:]\n",
    "        Za = VoxA[2]*np.arange(len(AcN1))\n",
    "        Zb = VoxB[2]*np.arange(len(AcN2))\n",
    "        plt.plot(Za,AcN1,)\n",
    "        plt.plot(Zb,AcN2)\n",
    "        plt.title('Z axis crossing max peak')\n",
    "        plt.legend(['FDTD','Rayleigh'])\n",
    "\n",
    "        plt.figure(figsize=(16,4))\n",
    "        plt.subplot(1,4,1)\n",
    "        plt.imshow(AData[Metrics['L Inf location'][0],:,:].T,cmap=plt.cm.gray)\n",
    "        plt.plot(Metrics['L Inf location'][1],\n",
    "                 Metrics['L Inf location'][2],'+y',markersize=18)\n",
    "        plt.colorbar()\n",
    "        plt.title('FDTD - YZ')\n",
    "        plt.subplot(1,4,2)\n",
    "        plt.imshow(BData[Metrics['L Inf location'][0],:,:].T,cmap=plt.cm.gray)\n",
    "        plt.plot(Metrics['L Inf location'][1],\n",
    "                 Metrics['L Inf location'][2],'+y',markersize=18)\n",
    "        plt.colorbar()\n",
    "        plt.title('Rayleigh - YZ')\n",
    "        plt.subplot(1,4,3)\n",
    "        plt.imshow(AData[:,Metrics['L Inf location'][1],:].T,cmap=plt.cm.gray)\n",
    "        plt.plot(Metrics['L Inf location'][0],\n",
    "                 Metrics['L Inf location'][2],'+y',markersize=18)\n",
    "        plt.colorbar()\n",
    "        plt.title('FDTD - XZ')\n",
    "        plt.subplot(1,4,4)\n",
    "        plt.title('Rayleigh - XZ')\n",
    "        plt.imshow(BData[:,Metrics['L Inf location'][1],:].T,cmap=plt.cm.gray)\n",
    "        plt.plot(Metrics['L Inf location'][0],\n",
    "                 Metrics['L Inf location'][2],'+y',markersize=18)\n",
    "        plt.colorbar()\n",
    "        plt.suptitle('Comparison in plane at maximum L Inf (marker by +)')\n",
    "\n",
    "        plt.figure(figsize=(8,2))\n",
    "        AcN1=AData[Metrics['L Inf location'][0],Metrics['L Inf location'][1],:]\n",
    "        AcN2=BData[Metrics['L Inf location'][0],Metrics['L Inf location'][1],:]\n",
    "        Za = VoxA[2]*np.arange(len(AcN1))\n",
    "        Zb = VoxB[2]*np.arange(len(AcN2))\n",
    "        plt.plot(Za,AcN1)\n",
    "        plt.plot(Zb,AcN2)\n",
    "        plt.title('Z axis crossing max L inf (marked by vertical dotted line)')\n",
    "        plt.plot([Za[Metrics['L Inf location'][2]],Za[Metrics['L Inf location'][2]]],\n",
    "                 [np.min([AcN1.min(),AcN2.min()]),np.max([AcN1.max(),AcN2.max()])/2],':')\n",
    "        plt.legend(['FDTD','Rayleigh'])\n",
    "    \n",
    "    \n",
    "    return Metrics\n",
    "    \n",
    "    "
   ]
  },
  {
   "cell_type": "markdown",
   "id": "6",
   "metadata": {},
   "source": [
    "## Processing all cases\n",
    "The code below just process all cases and store the results in a Pandas table and exports it in a Excel spreadsheet"
   ]
  },
  {
   "cell_type": "code",
   "execution_count": null,
   "id": "7",
   "metadata": {},
   "outputs": [],
   "source": [
    "BasePath='/Users/spichardo/Library/CloudStorage/OneDrive-UniversityofCalgary/GDrive/ReplaceWaterBabel/SDR0p55/Cases/'\n",
    "\n",
    "for case in range(0,500):\n",
    "    print('Case %03i' %case,end='\\r')\n",
    "    fbase =BasePath + 'CASE_%04i_' % case\n",
    "    fnames=glob(fbase+'*')\n",
    "    if len(fnames)==0:\n",
    "        break\n",
    "    assert(len(fnames)==2)\n",
    "    if '_FDTD_' in fnames[0]:\n",
    "        FDTDFile=fnames[0]\n",
    "        RayleighName=fnames[1]\n",
    "    else:\n",
    "        FDTDFile=fnames[1]\n",
    "        RayleighName=fnames[0]\n",
    "    Res={'case':case,'Description':FDTDFile.split('_FDTD_')[1]} | qcheck(FDTDFile,RayleighName)\n",
    "    if case == 0:\n",
    "        df=pd.DataFrame.from_dict(Res,orient='index').T\n",
    "    else:\n",
    "        df = pd.concat([df,pd.DataFrame.from_dict(Res,orient='index').T])\n"
   ]
  },
  {
   "cell_type": "code",
   "execution_count": null,
   "id": "8",
   "metadata": {},
   "outputs": [],
   "source": [
    "df['case'] = df['case'].astype(int)\n",
    "df.set_index('case')\n",
    "df.to_excel('SummaryAnalysis.xlsx',index=False)\n"
   ]
  },
  {
   "cell_type": "markdown",
   "id": "9",
   "metadata": {},
   "source": [
    "Show the table of results"
   ]
  },
  {
   "cell_type": "code",
   "execution_count": null,
   "id": "10",
   "metadata": {},
   "outputs": [],
   "source": [
    "df"
   ]
  },
  {
   "cell_type": "markdown",
   "id": "11",
   "metadata": {},
   "source": [
    "## Illustrative cases\n",
    "Based on the table above, we compare a few cases with plots showing the largest L inf deviation, which is the most "
   ]
  },
  {
   "cell_type": "code",
   "execution_count": null,
   "id": "12",
   "metadata": {
    "jupyter": {
     "source_hidden": true
    }
   },
   "outputs": [],
   "source": [
    "BasePath='/Users/spichardo/Library/CloudStorage/OneDrive-UniversityofCalgary/GDrive/ReplaceWaterBabel/SDR0p55/Cases/'\n",
    "CASE=50;FDTD=glob(BasePath+'CASE_%04i_FDTD*' % CASE )[0];Ray=glob(BasePath+'CASE_%04i_Rayleigh*' % CASE)[0]\n",
    "print(os.path.basename(FDTD))\n",
    "qcheck(FDTD,Ray,bPlot=True)"
   ]
  },
  {
   "cell_type": "markdown",
   "id": "13",
   "metadata": {},
   "source": [
    "In the previous, case we noticed that layer immediate below the source still shows occassionally a bit of deviation, but nothing ensuring to be critical."
   ]
  },
  {
   "cell_type": "code",
   "execution_count": null,
   "id": "14",
   "metadata": {},
   "outputs": [],
   "source": [
    "CASE=225;FDTD=glob(BasePath+'CASE_%04i_FDTD*' % CASE )[0];Ray=glob(BasePath+'CASE_%04i_Rayleigh*' % CASE)[0]\n",
    "print(os.path.basename(FDTD))\n",
    "qcheck(FDTD,Ray,bPlot=True)"
   ]
  },
  {
   "cell_type": "code",
   "execution_count": null,
   "id": "15",
   "metadata": {},
   "outputs": [],
   "source": [
    "CASE=193;FDTD=glob(BasePath+'CASE_%04i_FDTD*' % CASE )[0];Ray=glob(BasePath+'CASE_%04i_Rayleigh*' % CASE)[0]\n",
    "print(os.path.basename(FDTD))\n",
    "qcheck(FDTD,Ray,bPlot=True)"
   ]
  },
  {
   "cell_type": "code",
   "execution_count": null,
   "id": "16",
   "metadata": {},
   "outputs": [],
   "source": []
  }
 ],
 "metadata": {
  "kernelspec": {
   "display_name": "Python 3 (ipykernel)",
   "language": "python",
   "name": "python3"
  },
  "language_info": {
   "codemirror_mode": {
    "name": "ipython",
    "version": 3
   },
   "file_extension": ".py",
   "mimetype": "text/x-python",
   "name": "python",
   "nbconvert_exporter": "python",
   "pygments_lexer": "ipython3",
   "version": "3.9.13"
  }
 },
 "nbformat": 4,
 "nbformat_minor": 5
}
